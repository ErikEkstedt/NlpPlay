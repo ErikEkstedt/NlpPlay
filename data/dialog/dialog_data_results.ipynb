{
 "cells": [
  {
   "cell_type": "markdown",
   "metadata": {},
   "source": [
    "# Dataset\n",
    "\n",
    "Dataset cleaning. Many of these functions iterate over the datapoints\n",
    "more times\n",
    "than necessary but we should only have to do this a few times at\n",
    "most..."
   ]
  },
  {
   "cell_type": "code",
   "execution_count": 1,
   "metadata": {
    "attributes": {
     "classes": [],
     "id": "",
     "n": "1"
    }
   },
   "outputs": [],
   "source": [
    "from io import open\n",
    "from tqdm import tqdm\n",
    "import itertools\n",
    "import numpy as np\n",
    "import spacy\n",
    "\n",
    "import matplotlib.pyplot as plt\n",
    "plt.ion()"
   ]
  },
  {
   "cell_type": "markdown",
   "metadata": {},
   "source": [
    "## Function to read and extract conversations"
   ]
  },
  {
   "cell_type": "code",
   "execution_count": 10,
   "metadata": {
    "attributes": {
     "classes": [],
     "id": "",
     "n": "2"
    }
   },
   "outputs": [],
   "source": [
    "def load_lines(filename='data/dialog/dialogs.txt'):\n",
    "    print('Loading dialogs')\n",
    "    return open(filename, encoding='utf-8').read().strip().split('\\n')\n",
    "\n",
    "\n",
    "def extract_conversations(lines):\n",
    "    print('Get separate conversations...')\n",
    "    conversations = []\n",
    "    tmp_conv = []\n",
    "    for line in lines:\n",
    "        if len(line) > 2:  # \"\\r\\n\" - newline\n",
    "            tmp_conv.append(line[:-1])\n",
    "        else:\n",
    "            conversations.append(tmp_conv)\n",
    "            tmp_conv = []\n",
    "    print('Number of conversations: ', len(conversations))\n",
    "    return conversations\n",
    "\n",
    "\n",
    "def structure_as_trigrams(conversations):\n",
    "    print('Get trigrams (s_(i-1), s_i, s_(i+1)')\n",
    "    trigrams = []\n",
    "    for conv in conversations:\n",
    "        for i in range(1, len(conv)-1):\n",
    "            trigrams.append({'current': conv[i],\n",
    "                             'pre': conv[i-1],\n",
    "                             'post':conv[i+1]})\n",
    "\n",
    "    print('Number of trigram examples (overlap): ', len(trigrams))\n",
    "    return trigrams\n"
   ]
  },
  {
   "cell_type": "markdown",
   "metadata": {},
   "source": [
    "Load all the lines from `data/dialogs.txt` and extract the different\n",
    "conversations. Then arange the data in trigrams, here defined as three\n",
    "sentences/utterences in sequential order.\n",
    "\n",
    "A trigram contains\n",
    "`trigram['current'], trigram['pre'], trigram['post']`, which\n",
    "are the words in\n",
    "the current sentece, previous sentence and next sentence\n",
    "respectively."
   ]
  },
  {
   "cell_type": "code",
   "execution_count": 3,
   "metadata": {
    "attributes": {
     "classes": [],
     "id": "",
     "n": "3"
    }
   },
   "outputs": [
    {
     "name": "stderr",
     "output_type": "stream",
     "text": [
      "  0%|          | 0/399634 [00:00<?, ?it/s]"
     ]
    },
    {
     "name": "stdout",
     "output_type": "stream",
     "text": [
      "Loading dialogs\n",
      "Get separate conversations...\n"
     ]
    },
    {
     "name": "stderr",
     "output_type": "stream",
     "text": [
      "100%|██████████| 399634/399634 [00:00<00:00, 1526484.18it/s]\n",
      " 37%|███▋      | 9120/24400 [00:00<00:00, 91195.52it/s]"
     ]
    },
    {
     "name": "stdout",
     "output_type": "stream",
     "text": [
      "Number of conversations:  24400\n",
      "Get trigrams (s_(i-1), s_i, s_(i+1)\n"
     ]
    },
    {
     "name": "stderr",
     "output_type": "stream",
     "text": [
      "100%|██████████| 24400/24400 [00:00<00:00, 116286.30it/s]"
     ]
    },
    {
     "name": "stdout",
     "output_type": "stream",
     "text": [
      "Number of trigram examples (overlap):  326493\n",
      "\n",
      "--------------------------------------------------\n",
      "Lines in dataset:  399634\n",
      "Conversations in dataset:  24400\n",
      "Total trigram data points: 326493\n",
      "Sample trigram:\n",
      "{'current': 'i have and i am so in love with the trailer already', 'pre': 'have you heard of the upcoming black panther movie', 'post': 'it looks remarkable so far'}\n"
     ]
    },
    {
     "name": "stderr",
     "output_type": "stream",
     "text": [
      "\n"
     ]
    }
   ],
   "source": [
    "lines = load_lines('data/dialogs.txt')\n",
    "conversations = extract_conversations(lines)\n",
    "trigrams = structure_as_trigrams(conversations)\n",
    "\n",
    "print()\n",
    "print('-'*50)\n",
    "print('Lines in dataset: ', len(lines))\n",
    "print('Conversations in dataset: ', len(conversations))\n",
    "print('Total trigram data points:', len(trigrams))\n",
    "print('Sample trigram:')\n",
    "print(trigrams[0])"
   ]
  },
  {
   "cell_type": "markdown",
   "metadata": {},
   "source": [
    "## Names\n",
    "\n",
    "Here we us [Spacy](https://spacy.io/) and their Named Entity\n",
    "recognition\n",
    "software to replace names with the token `PERSON`.\n",
    "\n",
    "There \\*should\\*\n",
    "be much more efficient ways to do this but this is good enough\n",
    "for now.  (It\n",
    "took around 9 minutes on a Macbook pro.)"
   ]
  },
  {
   "cell_type": "code",
   "execution_count": null,
   "metadata": {},
   "outputs": [
    {
     "name": "stderr",
     "output_type": "stream",
     "text": [
      " 99%|█████████▉| 24247/24400 [10:38<00:01, 106.19it/s]"
     ]
    }
   ],
   "source": [
    "def replace_names_with_PERSON(conversations, nlp):\n",
    "    import time\n",
    "    new_convs = []\n",
    "    t = time.time()\n",
    "    for conv in tqdm(conversations):\n",
    "        # print(conv)\n",
    "        tmp_conv = []\n",
    "        doc = nlp(''.join(conv))\n",
    "        for sentence in conv:\n",
    "            s = sentence\n",
    "            for x in doc.ents:\n",
    "                if x.label_ in ['PERSON', 'ORG']:\n",
    "                    # print(x.text,': ', x.label_)\n",
    "                    s = s.replace(x.text, x.label_)\n",
    "            tmp_conv.append(s)\n",
    "        new_convs.append(tmp_conv)\n",
    "    print(len(new_convs), ' conversations')\n",
    "    print('took ', time.time() - t, ' seconds')\n",
    "    return new_convs\n",
    "\n",
    "nlp = spacy.load('en')\n",
    "new_convs = replace_names_with_PERSON(conversations, nlp)"
   ]
  },
  {
   "cell_type": "markdown",
   "metadata": {},
   "source": [
    "Now `new_convs` contain the same conversations as before but with many names\n",
    "(not all) have been replaced by `PERSON`. Lets extract the new trigram dataset\n",
    "from this new conversation collection."
   ]
  },
  {
   "cell_type": "code",
   "execution_count": null,
   "metadata": {},
   "outputs": [],
   "source": [
    "new_trigrams = structure_as_trigrams(new_convs)\n",
    "print('old trigrams: ', len(trigrams))\n",
    "print('new trigrams: ', len(new_trigrams))"
   ]
  },
  {
   "cell_type": "markdown",
   "metadata": {},
   "source": [
    "## Vocabulary\n",
    "\n",
    "We use a vocabulary class from the [PyTorch Chatbot\n",
    "Tutorial](https://pytorch.org/tutorials/beginner/chatbot_tutorial.html)\n",
    "with a\n",
    "few minor changes. This vocabulary class takes the trigrams as input and\n",
    "adds\n",
    "and counts all the unique words in the dataset."
   ]
  },
  {
   "cell_type": "code",
   "execution_count": null,
   "metadata": {},
   "outputs": [],
   "source": [
    "class Voc:\n",
    "    PAD_token = 0  # Used for padding short sentences\n",
    "    SOS_token = 1  # Start-of-sentence token\n",
    "    EOS_token = 2  # End-of-sentence token\n",
    "\n",
    "    def __init__(self, name):\n",
    "        self.name = name\n",
    "        self.trimmed = False\n",
    "        self.word2index = {}\n",
    "        self.word2count = {}\n",
    "        self.index2word = {self.PAD_token: \"PAD\", self.SOS_token: \"SOS\", self.EOS_token: \"EOS\"}\n",
    "        self.num_words = 3  # Count SOS, EOS, PAD\n",
    "\n",
    "    def addSentence(self, sentence):\n",
    "        for word in sentence.split(' '):\n",
    "            self.addWord(word)\n",
    "\n",
    "    def add_trigrams(self, trigrams):\n",
    "        print(\"Adding words to Vocab...\")\n",
    "        for tri in tqdm(trigrams):\n",
    "            self.addSentence(tri['current'])\n",
    "            self.addSentence(tri['pre'])\n",
    "            self.addSentence(tri['post'])\n",
    "\n",
    "    def addWord(self, word):\n",
    "        if word not in self.word2index:\n",
    "            self.word2index[word] = self.num_words\n",
    "            self.word2count[word] = 1\n",
    "            self.index2word[self.num_words] = word\n",
    "            self.num_words += 1\n",
    "        else:\n",
    "            self.word2count[word] += 1\n",
    "\n",
    "    def sort_words_by_count(self):\n",
    "        return sorted(self.word2count.items(), key=lambda kv: kv[1])\n",
    "\n",
    "    # Remove words below a certain count threshold\n",
    "    def trim(self, min_count):\n",
    "        if self.trimmed:\n",
    "            print('Already Trimmed: ', self.min_count)\n",
    "            return\n",
    "        self.trimmed = True\n",
    "        self.min_count = min_count\n",
    "\n",
    "        keep_words = []\n",
    "\n",
    "        for k, v in self.word2count.items():\n",
    "            if v >= min_count:\n",
    "                keep_words.append(k)\n",
    "\n",
    "        print('keep_words {} / {} = {:.4f}'.format(\n",
    "            len(keep_words), len(self.word2index), len(keep_words) / len(self.word2index)\n",
    "        ))\n",
    "\n",
    "        # Reinitialize dictionaries\n",
    "        self.word2index = {}\n",
    "        self.word2count = {}\n",
    "        self.index2word = {self.PAD_token: \"PAD\", self.SOS_token: \"SOS\", self.EOS_token: \"EOS\"}\n",
    "        self.num_words = 3 # Count default tokens\n",
    "\n",
    "        for word in keep_words:\n",
    "            self.addWord(word)\n",
    "\n"
   ]
  },
  {
   "cell_type": "markdown",
   "metadata": {},
   "source": [
    "## Trimming"
   ]
  },
  {
   "cell_type": "code",
   "execution_count": 9,
   "metadata": {},
   "outputs": [],
   "source": [
    "def trim_convs(convs, voc):\n",
    "    keep_convs = []\n",
    "    for conv in convs:\n",
    "        keep = True\n",
    "        for sentence in conv:\n",
    "            # print(type(sentence)) # str\n",
    "            for word in sentence.split(' '):\n",
    "                if not word in voc.word2index:\n",
    "                    keep = False\n",
    "        if keep:\n",
    "            keep_convs.append(conv)\n",
    "    print('Conversations: {}/{}'.format(len(keep_convs), len(convs)))\n",
    "    print('Conversations: {}%'.format(len(keep_convs)*100 / len(convs)))\n",
    "    print('total Conv after trim:', len(keep_convs))\n",
    "    return keep_convs"
   ]
  },
  {
   "cell_type": "markdown",
   "metadata": {},
   "source": [
    "Now lets trim the dataset such that uncommon words, which in this\n",
    "regard would\n",
    "be considered noise, are thrown away.\n",
    "\n",
    "First the data should\n",
    "consist of coherent utterances with sequential\n",
    "dependencies, these are the\n",
    "different conversations. If we remove a datapoint in\n",
    "the middle of a\n",
    "conversation that will impede the coherence of all datapoints\n",
    "around it. Thus we\n",
    "need, as a first action at least, try to delete the complete\n",
    "conversation where\n",
    "a word we trimmed out is present. If `word_count` is 2 that\n",
    "means that all words\n",
    "in the processed dataset appear at least 2 times, in other\n",
    "words all\n",
    "conversations containing a word that appears less than 2 times in the\n",
    "entire\n",
    "dataset are \"thrown\" away.\n",
    "\n",
    "Lets do this for a minimum word count from 2 to 7\n",
    "and see how large dataset is\n",
    "left."
   ]
  },
  {
   "cell_type": "code",
   "execution_count": 11,
   "metadata": {},
   "outputs": [
    {
     "name": "stderr",
     "output_type": "stream",
     "text": [
      "  4%|▍         | 14431/326493 [00:00<00:04, 69210.40it/s]"
     ]
    },
    {
     "name": "stdout",
     "output_type": "stream",
     "text": [
      "Adding words to Vocab...\n"
     ]
    },
    {
     "name": "stderr",
     "output_type": "stream",
     "text": [
      "100%|██████████| 326493/326493 [00:04<00:00, 79320.23it/s]\n"
     ]
    },
    {
     "name": "stdout",
     "output_type": "stream",
     "text": [
      "keep_words 48823 / 51221 = 0.9532\n"
     ]
    },
    {
     "name": "stderr",
     "output_type": "stream",
     "text": [
      "\r",
      "  0%|          | 0/326493 [00:00<?, ?it/s]"
     ]
    },
    {
     "name": "stdout",
     "output_type": "stream",
     "text": [
      "Conversations: 22264/24400\n",
      "Conversations: 91.24590163934427%\n",
      "total Conv after trim: 22264\n",
      "Get trigrams (s_(i-1), s_i, s_(i+1)\n",
      "Number of trigram examples (overlap):  297595\n",
      "Adding words to Vocab...\n"
     ]
    },
    {
     "name": "stderr",
     "output_type": "stream",
     "text": [
      "100%|██████████| 326493/326493 [00:04<00:00, 77715.15it/s]\n"
     ]
    },
    {
     "name": "stdout",
     "output_type": "stream",
     "text": [
      "keep_words 46253 / 51221 = 0.9030\n"
     ]
    },
    {
     "name": "stderr",
     "output_type": "stream",
     "text": [
      "\r",
      "  0%|          | 0/326493 [00:00<?, ?it/s]"
     ]
    },
    {
     "name": "stdout",
     "output_type": "stream",
     "text": [
      "Conversations: 20321/24400\n",
      "Conversations: 83.2827868852459%\n",
      "total Conv after trim: 20321\n",
      "Get trigrams (s_(i-1), s_i, s_(i+1)\n",
      "Number of trigram examples (overlap):  271551\n",
      "Adding words to Vocab...\n"
     ]
    },
    {
     "name": "stderr",
     "output_type": "stream",
     "text": [
      "100%|██████████| 326493/326493 [00:04<00:00, 77902.01it/s]\n"
     ]
    },
    {
     "name": "stdout",
     "output_type": "stream",
     "text": [
      "keep_words 27230 / 51221 = 0.5316\n"
     ]
    },
    {
     "name": "stderr",
     "output_type": "stream",
     "text": [
      "  2%|▏         | 7937/326493 [00:00<00:04, 79367.62it/s]"
     ]
    },
    {
     "name": "stdout",
     "output_type": "stream",
     "text": [
      "Conversations: 12314/24400\n",
      "Conversations: 50.467213114754095%\n",
      "total Conv after trim: 12314\n",
      "Get trigrams (s_(i-1), s_i, s_(i+1)\n",
      "Number of trigram examples (overlap):  149894\n",
      "Adding words to Vocab...\n"
     ]
    },
    {
     "name": "stderr",
     "output_type": "stream",
     "text": [
      "100%|██████████| 326493/326493 [00:04<00:00, 79721.59it/s]\n"
     ]
    },
    {
     "name": "stdout",
     "output_type": "stream",
     "text": [
      "keep_words 26131 / 51221 = 0.5102\n"
     ]
    },
    {
     "name": "stderr",
     "output_type": "stream",
     "text": [
      "  2%|▏         | 7663/326493 [00:00<00:04, 76617.65it/s]"
     ]
    },
    {
     "name": "stdout",
     "output_type": "stream",
     "text": [
      "Conversations: 11648/24400\n",
      "Conversations: 47.73770491803279%\n",
      "total Conv after trim: 11648\n",
      "Get trigrams (s_(i-1), s_i, s_(i+1)\n",
      "Number of trigram examples (overlap):  141441\n",
      "Adding words to Vocab...\n"
     ]
    },
    {
     "name": "stderr",
     "output_type": "stream",
     "text": [
      "100%|██████████| 326493/326493 [00:04<00:00, 78620.71it/s]\n"
     ]
    },
    {
     "name": "stdout",
     "output_type": "stream",
     "text": [
      "keep_words 24912 / 51221 = 0.4864\n"
     ]
    },
    {
     "name": "stderr",
     "output_type": "stream",
     "text": [
      "  2%|▏         | 7401/326493 [00:00<00:04, 74003.19it/s]"
     ]
    },
    {
     "name": "stdout",
     "output_type": "stream",
     "text": [
      "Conversations: 10974/24400\n",
      "Conversations: 44.97540983606557%\n",
      "total Conv after trim: 10974\n",
      "Get trigrams (s_(i-1), s_i, s_(i+1)\n",
      "Number of trigram examples (overlap):  132663\n",
      "Adding words to Vocab...\n"
     ]
    },
    {
     "name": "stderr",
     "output_type": "stream",
     "text": [
      "100%|██████████| 326493/326493 [00:04<00:00, 79567.70it/s]\n"
     ]
    },
    {
     "name": "stdout",
     "output_type": "stream",
     "text": [
      "keep_words 20325 / 51221 = 0.3968\n",
      "Conversations: 9208/24400\n",
      "Conversations: 37.73770491803279%\n",
      "total Conv after trim: 9208\n",
      "Get trigrams (s_(i-1), s_i, s_(i+1)\n",
      "Number of trigram examples (overlap):  107589\n"
     ]
    }
   ],
   "source": [
    "# Trim vocabulary of words used less than min_count\n",
    "# Then trim conversations containing those words\n",
    "vocab_size = []\n",
    "keep_conversations = []\n",
    "trigram_size = []\n",
    "min_counts = [2,3,4,5,6,7]\n",
    "for min_count in min_counts:\n",
    "    new_voc = Voc('new')\n",
    "    new_voc.add_trigrams(new_trigrams)\n",
    "    # print('Vocab size: ', new_voc.num_words)\n",
    "    new_voc.trim(min_count)\n",
    "    # print('Trimmed vocab size: ', new_voc.num_words)\n",
    "    newest_convs = trim_convs(new_convs, new_voc)\n",
    "    trigrams = structure_as_trigrams(newest_convs)\n",
    "    vocab_size.append(new_voc.num_words)\n",
    "    keep_conversations.append(len(newest_convs))\n",
    "    trigram_size.append(len(trigrams))"
   ]
  },
  {
   "cell_type": "code",
   "execution_count": 12,
   "metadata": {},
   "outputs": [
    {
     "data": {
      "image/png": "[encoded data removed]",
      "text/plain": [
       "<Figure size 432x288 with 1 Axes>"
      ]
     },
     "metadata": {
      "needs_background": "light"
     },
     "output_type": "display_data"
    }
   ],
   "source": [
    "plt.plot(min_counts, vocab_size,  'r', label='vocab size')\n",
    "plt.plot(min_counts, trigram_size, 'g', label='trigrams (datapoints)')\n",
    "plt.plot(min_counts, keep_conversations, 'b', label='conversations')\n",
    "plt.legend()\n",
    "plt.show()"
   ]
  },
  {
   "cell_type": "markdown",
   "metadata": {},
   "source": [
    "# Results\n",
    "\n",
    "As seen in the image both the number of datapoints and the vocabulary size decreases substantially in size when throwing away conversations with words used less than 4 times in the corpus. The question then really comes down to the ration between datapoints and the size of the network trained, related to the size of the vocabulary, i.e the word embedding space.\n"
   ]
  },
  {
   "cell_type": "code",
   "execution_count": 15,
   "metadata": {},
   "outputs": [
    {
     "data": {
      "image/png": "[encoded data removed]",
      "text/plain": [
       "<Figure size 432x288 with 1 Axes>"
      ]
     },
     "metadata": {
      "needs_background": "light"
     },
     "output_type": "display_data"
    }
   ],
   "source": [
    "ratio = []\n",
    "for v, t in zip(vocab_size, trigram_size):\n",
    "    ratio.append(t/v)\n",
    "\n",
    "plt.plot(min_counts, ratio)\n",
    "plt.title('Data samples per unique words')\n",
    "plt.show()"
   ]
  },
  {
   "cell_type": "code",
   "execution_count": 16,
   "metadata": {},
   "outputs": [],
   "source": [
    "np.save('PERSON_convs', new_convs)"
   ]
  },
  {
   "cell_type": "markdown",
   "metadata": {},
   "source": [
    "# Summary\n",
    "\n",
    "Trimming the data and using only conversations comprised of words used at least N times yields:\n",
    "\n",
    "-------------\n",
    "\n",
    "N = 3\n",
    "\n",
    "46253 unique words\n",
    "\n",
    "20321 Conversations (83.3% of all conversations)\n",
    "\n",
    "-------------\n",
    "\n",
    "N = 4\n",
    "\n",
    "27230 unique words\n",
    "\n",
    "12314 Conversations (50.5% of all conversations)"
   ]
  },
  {
   "cell_type": "code",
   "execution_count": null,
   "metadata": {},
   "outputs": [],
   "source": []
  }
 ],
 "metadata": {
  "kernelspec": {
   "display_name": "Python 3",
   "language": "python",
   "name": "python3"
  },
  "language_info": {
   "codemirror_mode": {
    "name": "ipython",
    "version": 3
   },
   "file_extension": ".py",
   "mimetype": "text/x-python",
   "name": "python",
   "nbconvert_exporter": "python",
   "pygments_lexer": "ipython3",
   "version": "3.7.0"
  }
 },
 "nbformat": 4,
 "nbformat_minor": 2
}
